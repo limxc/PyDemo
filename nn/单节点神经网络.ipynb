{
 "metadata": {
  "language_info": {
   "codemirror_mode": {
    "name": "ipython",
    "version": 3
   },
   "file_extension": ".py",
   "mimetype": "text/x-python",
   "name": "python",
   "nbconvert_exporter": "python",
   "pygments_lexer": "ipython3",
   "version": "3.9.5"
  },
  "orig_nbformat": 2,
  "kernelspec": {
   "name": "python395jvsc74a57bd077e1d6820206ecc9f2c7bc9596539b6f0e1e6a48991ba4d64f7a09a638ca336a",
   "display_name": "Python 3.9.5 64-bit"
  },
  "metadata": {
   "interpreter": {
    "hash": "77e1d6820206ecc9f2c7bc9596539b6f0e1e6a48991ba4d64f7a09a638ca336a"
   }
  }
 },
 "nbformat": 4,
 "nbformat_minor": 2,
 "cells": [
  {
   "cell_type": "code",
   "execution_count": 21,
   "metadata": {},
   "outputs": [
    {
     "output_type": "stream",
     "name": "stdout",
     "text": [
      "[[0 0 1]\n [1 1 1]\n [1 0 1]\n [0 1 1]]\n[[0]\n [1]\n [1]\n [0]]\n"
     ]
    }
   ],
   "source": [
    "from numpy import random, dot,exp,array\n",
    "\n",
    "X = array([[0,0,1],[1,1,1],[1,0,1],[0,1,1]])\n",
    "y = array([[0,1,1,0]]).T\n",
    "\n",
    "print(X)\n",
    "print(y)"
   ]
  },
  {
   "source": [
    "random.seed(1)\n",
    "weights = random.random((3,1))*2-1\n",
    "#print(f\"weights:{weights}\")"
   ],
   "cell_type": "code",
   "metadata": {},
   "execution_count": 22,
   "outputs": []
  },
  {
   "cell_type": "code",
   "execution_count": 23,
   "metadata": {},
   "outputs": [],
   "source": [
    "def fp(X,weights):\n",
    "    z = dot(X,weights)\n",
    "    output = 1/(1+exp(-z))\n",
    "    #print(f\"z:{z}\")\n",
    "    #print(f\"output:{output}\")\n",
    "    return output\n",
    "\n",
    "def bp(y,output):\n",
    "    error = y-output\n",
    "    slope = output*(1-output)\n",
    "    delta = error*slope\n",
    "    #print(f\"error:{error}\")\n",
    "    #print(f\"slope:{slope}\")\n",
    "    #print(f\"delta:{delta}\")\n",
    "    return delta "
   ]
  },
  {
   "cell_type": "code",
   "execution_count": 24,
   "metadata": {
    "tags": []
   },
   "outputs": [],
   "source": [
    "for it in range(10000):\n",
    "    output = fp(X,weights)\n",
    "    delta = bp(y,output)\n",
    "    weights = weights+dot(X.T,delta)\n",
    "#print(f\"weights:{weights}\")"
   ]
  },
  {
   "cell_type": "code",
   "execution_count": 25,
   "metadata": {},
   "outputs": [
    {
     "output_type": "stream",
     "name": "stdout",
     "text": [
      "predict:[[0.9999225]]\n"
     ]
    }
   ],
   "source": [
    "predict = fp([[1,1,0]],weights)\n",
    "print(f\"predict:{predict}\")"
   ]
  },
  {
   "cell_type": "code",
   "execution_count": null,
   "metadata": {},
   "outputs": [],
   "source": []
  }
 ]
}