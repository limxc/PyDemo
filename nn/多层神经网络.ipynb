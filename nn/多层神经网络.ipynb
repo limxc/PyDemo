{
 "metadata": {
  "language_info": {
   "codemirror_mode": {
    "name": "ipython",
    "version": 3
   },
   "file_extension": ".py",
   "mimetype": "text/x-python",
   "name": "python",
   "nbconvert_exporter": "python",
   "pygments_lexer": "ipython3",
   "version": "3.9.5"
  },
  "orig_nbformat": 2,
  "kernelspec": {
   "name": "python395jvsc74a57bd077e1d6820206ecc9f2c7bc9596539b6f0e1e6a48991ba4d64f7a09a638ca336a",
   "display_name": "Python 3.9.5 64-bit"
  },
  "metadata": {
   "interpreter": {
    "hash": "77e1d6820206ecc9f2c7bc9596539b6f0e1e6a48991ba4d64f7a09a638ca336a"
   }
  }
 },
 "nbformat": 4,
 "nbformat_minor": 2,
 "cells": [
  {
   "cell_type": "code",
   "execution_count": 1,
   "metadata": {},
   "outputs": [
    {
     "output_type": "stream",
     "name": "stdout",
     "text": [
      "[[0 0 1]\n [0 1 1]\n [1 0 1]\n [1 1 1]]\n[[0]\n [1]\n [1]\n [0]]\n"
     ]
    }
   ],
   "source": [
    "from numpy import random, dot,exp,array\n",
    "\n",
    "X = array([[0,0,1],[0,1,1],[1,0,1],[1,1,1]])\n",
    "y = array([[0,1,1,0]]).T\n",
    "\n",
    "print(X)\n",
    "print(y)"
   ]
  },
  {
   "source": [
    "random.seed(1)\n",
    "w0 = random.random((3,4))*2-1\n",
    "w1 = random.random((4,1))*2-1"
   ],
   "cell_type": "code",
   "metadata": {},
   "execution_count": 2,
   "outputs": []
  },
  {
   "cell_type": "code",
   "execution_count": 3,
   "metadata": {},
   "outputs": [],
   "source": [
    "def fp(input):\n",
    "    l1 = 1/(1+exp(-dot(input,w0)))\n",
    "    l2 = 1/(1+exp(-dot(l1,w1)))\n",
    "    #print(f\"l1:{l1}\")\n",
    "    #print(f\"l2:{l2}\")\n",
    "    return l1,l2\n",
    "\n",
    "def bp(l1,l2,y):\n",
    "    error = y-l2\n",
    "    slope = l2*(1-l2)\n",
    "    l1_delta = error*slope\n",
    "\n",
    "    l0_slope = l1*(1-l1)\n",
    "    l0_error = l1_delta.dot(w1.T)\n",
    "    l0_delta = l0_error*l0_slope\n",
    "    \n",
    "    #print(f\"l1_delta:{l1_delta}\")\n",
    "    #print(f\"l0_delta:{l0_delta}\")\n",
    "    return l0_delta,l1_delta "
   ]
  },
  {
   "cell_type": "code",
   "execution_count": 4,
   "metadata": {
    "tags": []
   },
   "outputs": [],
   "source": [
    "for it in range(10000):\n",
    "    l0 = X\n",
    "    l1,l2 = fp(l0)\n",
    "    l0_delta,l1_delta = bp(l1,l2,y)     \n",
    "\n",
    "    w1 = w1+dot(l1.T,l1_delta)\n",
    "    w0 = w0+dot(l0.T,l0_delta)\n"
   ]
  },
  {
   "cell_type": "code",
   "execution_count": 5,
   "metadata": {},
   "outputs": [
    {
     "output_type": "stream",
     "name": "stdout",
     "text": [
      "predict:[[0.99101005]]\n"
     ]
    }
   ],
   "source": [
    "predict = fp([[0,1,1]])[1]\n",
    "print(f\"predict:{predict}\")"
   ]
  },
  {
   "cell_type": "code",
   "execution_count": null,
   "metadata": {},
   "outputs": [],
   "source": []
  }
 ]
}